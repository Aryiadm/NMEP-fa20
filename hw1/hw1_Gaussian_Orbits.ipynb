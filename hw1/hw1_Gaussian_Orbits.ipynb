{
 "cells": [
  {
   "cell_type": "markdown",
   "metadata": {},
   "source": [
    "# Linear Regression - Gaussian Orbits\n",
    "\n",
    "Imports needed in this notebook: `numpy` (as np), `matplotlib.pyplot` (as plt), from sklearn: `LinearRegression`, `ElasticNet`, and `mean_squared_error`. Search up documentation if you have issues with any of the scikit learn things. This first part will be a warmup with numpy, linear regression, and scikit learn."
   ]
  },
  {
   "cell_type": "code",
   "execution_count": 20,
   "metadata": {},
   "outputs": [],
   "source": [
    "### YOUR IMPORT CODE HERE\n",
    "import numpy as np\n",
    "import matplotlib.pyplot as plt\n",
    "from sklearn.metrics import mean_squared_error\n",
    "from sklearn.linear_model import LinearRegression, ElasticNet\n"
   ]
  },
  {
   "cell_type": "markdown",
   "metadata": {},
   "source": [
    "First, we'll generate some random data and find the line of best fit."
   ]
  },
  {
   "cell_type": "code",
   "execution_count": 30,
   "metadata": {},
   "outputs": [
    {
     "data": {
      "image/png": "[encoded data removed]",
      "text/plain": [
       "<Figure size 432x288 with 1 Axes>"
      ]
     },
     "metadata": {
      "needs_background": "light"
     },
     "output_type": "display_data"
    },
    {
     "data": {
      "text/plain": [
       "[(0.3821062758987486, 0.5221557417998424),\n",
       " (0.1464354305079258, 0.12933413824592752),\n",
       " (1.230285251586819, 1.1259468755359219),\n",
       " (0.40426834011901697, 0.5256995755862957),\n",
       " (0.9686556307380018, 0.8508802599821914),\n",
       " (0.7854858702954681, 0.7884372489379782),\n",
       " (2.3972464286876614, 2.189567225942309),\n",
       " (0.5431853111334439, 0.59964725156604),\n",
       " (0.020853625845575038, 0.027137092242891903),\n",
       " (0.12486429447509301, 0.15145114979505575),\n",
       " (0.4768245813957157, 0.36856744304353795),\n",
       " (0.29823990405668616, 0.1980469587597124),\n",
       " (0.18592633919359383, 0.1584495359088121),\n",
       " (0.6440394228474183, 0.551904864458152),\n",
       " (0.9339331668424468, 0.622356589855741),\n",
       " (0.8200283888375918, 0.6910483305887752),\n",
       " (0.15181171067292398, 0.039036626364742005),\n",
       " (1.1655864619440406, 1.2491658566541919),\n",
       " (0.6476310277617608, 0.7292214319663944),\n",
       " (1.1759307289424266, 1.0876487880456698)]"
      ]
     },
     "execution_count": 30,
     "metadata": {},
     "output_type": "execute_result"
    }
   ],
   "source": [
    "num_data = 20\n",
    "\n",
    "def gen_data(n):\n",
    "    \n",
    "    x = []\n",
    "    y = []\n",
    "    \n",
    "    for i in range(n):\n",
    "        rand = abs(np.random.randn())\n",
    "        x += [rand]\n",
    "        y += [.15 * np.random.randn() + rand]\n",
    "\n",
    "    plt.scatter(x, y)\n",
    "    plt.show()\n",
    "    \n",
    "    return (x, y)\n",
    "\n",
    "data = gen_data(num_data)\n",
    "data = [(data[0][i], data[1][i]) for i in range(num_data)]\n",
    "data"
   ]
  },
  {
   "cell_type": "markdown",
   "metadata": {},
   "source": [
    "### Numpy Linear Regression\n",
    "Now, `data` is a list of tuples of data. Perform linear regression to find the line of best fit, using only numpy. Minimize squared loss. Use matplotlib to plot your line of best fit."
   ]
  },
  {
   "cell_type": "code",
   "execution_count": 39,
   "metadata": {},
   "outputs": [
    {
     "data": {
      "image/png": "[encoded data removed]",
      "text/plain": [
       "<Figure size 432x288 with 1 Axes>"
      ]
     },
     "metadata": {
      "needs_background": "light"
     },
     "output_type": "display_data"
    }
   ],
   "source": [
    "data1 = data.copy() #data1 is a copy of data, dont modify data since we'll use it later\n",
    "#YOUR CODE HERE\n",
    "data1=np.array(data1) #converting into array\n",
    "x=data1[:,0].reshape(1,-1).flatten()\n",
    "y=data1[:,1].reshape(1,-1).flatten()\n",
    "model = np.polyfit(x, y,1)\n",
    "plt.scatter(x,y)\n",
    "plt.plot(x,model[0]*x+model[1])\n",
    "plt.show()"
   ]
  },
  {
   "cell_type": "code",
   "execution_count": null,
   "metadata": {},
   "outputs": [],
   "source": [
    "plt."
   ]
  },
  {
   "cell_type": "code",
   "execution_count": 29,
   "metadata": {},
   "outputs": [
    {
     "data": {
      "text/plain": [
       "[(1.0775240957352292, 1.0647273243400879),\n",
       " (0.7390481339964688, 0.6414922396972296),\n",
       " (0.020846430748925168, -0.004393898409818325),\n",
       " (1.4335661748292188, 1.2500103712852355),\n",
       " (1.8706249850117826, 1.9221531015433952),\n",
       " (0.8826923777679686, 1.008245705453642),\n",
       " (0.3641248594495976, 0.43915395842736216),\n",
       " (0.02683874214947326, 0.1798801076855277),\n",
       " (0.7631402301051344, 0.6569274485088153),\n",
       " (0.17381921163012765, 0.12805970600683958),\n",
       " (0.5805593089277716, 0.7696353377893902),\n",
       " (0.44599983252503816, 0.5832469826489832),\n",
       " (1.4424223299010093, 1.6249472413156096),\n",
       " (0.1806324461550048, 0.26178080423282946),\n",
       " (1.8454697083327962, 1.9793887463090427),\n",
       " (0.10093774548110354, -0.15809424846160283),\n",
       " (0.13809660038449403, 0.3164833668864535),\n",
       " (1.1071135613641663, 1.1274308289133976),\n",
       " (1.5595266140166413, 1.8845270898983049),\n",
       " (0.2840838178216198, 0.2846889657077943)]"
      ]
     },
     "execution_count": 29,
     "metadata": {},
     "output_type": "execute_result"
    }
   ],
   "source": [
    "data"
   ]
  },
  {
   "cell_type": "markdown",
   "metadata": {},
   "source": [
    "### Sklearn Linear Regression\n",
    "Now, do the same thing, except using Scikit Learn. I recommend reading some documentation, specifically here: https://scikit-learn.org/stable/modules/generated/sklearn.linear_model.LinearRegression.html"
   ]
  },
  {
   "cell_type": "code",
   "execution_count": 31,
   "metadata": {},
   "outputs": [
    {
     "data": {
      "image/png": "[encoded data removed]",
      "text/plain": [
       "<Figure size 432x288 with 1 Axes>"
      ]
     },
     "metadata": {
      "needs_background": "light"
     },
     "output_type": "display_data"
    }
   ],
   "source": [
    "data2 = data.copy()\n",
    "#YOUR CODE HERE\n",
    "reg_mod=LinearRegression()\n",
    "data2=np.array(data2) #converting into array\n",
    "x=data2[:,0].reshape(-1,1)\n",
    "y=data2[:,1].reshape(-1,1)\n",
    "result=reg_mod.fit(x,y)\n",
    "plt.scatter(x,y)\n",
    "plt.plot(x,result.predict(x))\n",
    "plt.show()"
   ]
  },
  {
   "cell_type": "markdown",
   "metadata": {},
   "source": [
    "# Gaussian Orbits\n",
    "\n",
    "In this homework, we will use linear regression methods in order to determine the orbits of heavenly bodies.\n",
    "\n",
    "### Background\n",
    "\n",
    "In 1801 the minor planet Ceres was first observed for a period of 40 days before moving behind the sun. To predict the location of Ceres astronomers would have to solve complicated non-linear differential equations, quite a task in an era before computers or calculators. However, Carl Friedrich Gauss had another idea. By single handedly developing the theory of least squares and linear regression and applying it to the problem of finding Ceres, Gauss managed to accurately predict the location of the minor planet nearly a year after it's last sighting.\n",
    "\n",
    "In this problem we likewise attempt to predict the orbit of a \"planet\" and in the process \"derive\" the formula for an ellipse, the shape of orbits of heavenly bodies."
   ]
  },
  {
   "cell_type": "markdown",
   "metadata": {},
   "source": [
    "### 1. Generate Data\n",
    "\n",
    "The idea here is we generate data in the shape of an ellipse. To do this we use the formula of an ellipse in polar coordinates:\n",
    "\n",
    "$$ r = \\frac{ep}{1-e \\cos{\\theta}} $$\n",
    "\n",
    "where $ e $ is the eccentricity and $ p $ is the distance from the minor axis to the directrix (read \"length\"). In addition, we add random noise to the data.\n",
    "\n",
    "We will then try to fit curves to our synthetic dataset."
   ]
  },
  {
   "cell_type": "code",
   "execution_count": 40,
   "metadata": {},
   "outputs": [
    {
     "data": {
      "image/png": "[encoded data removed]",
      "text/plain": [
       "<Figure size 432x288 with 1 Axes>"
      ]
     },
     "metadata": {
      "needs_background": "light"
     },
     "output_type": "display_data"
    }
   ],
   "source": [
    "def gen_data(e, p, o):\n",
    "    theta = np.linspace(0,2*np.pi, 200)\n",
    "\n",
    "    # Ellipse with eccentricity e\n",
    "    # Axis \"length\" p\n",
    "    # Offset by .5 angularly\n",
    "    r = e*p/(1-e*np.cos(theta - o)) \n",
    "\n",
    "    # transform to cartesian\n",
    "    x = r * np.cos(theta)\n",
    "    y = r * np.sin(theta)\n",
    "\n",
    "    # Add noise\n",
    "    x += np.random.randn(x.shape[0]) / 20\n",
    "    y += np.random.randn(y.shape[0]) / 20\n",
    "\n",
    "    # plot\n",
    "    plt.scatter(x, y)\n",
    "    plt.show()\n",
    "\n",
    "    # saving\n",
    "    np.save('x.npy', x)\n",
    "    np.save('y.npy', y)\n",
    "    return x, y\n",
    "\n",
    "x, y = gen_data(.5, 2, .5)"
   ]
  },
  {
   "cell_type": "markdown",
   "metadata": {},
   "source": [
    "### 2. Use sklearn's LinearRegression\n",
    "\n",
    "Try to fit a `LinearRegression` model to `x` and `y` (let $ x $ be the independent variable and $ y $ be the dependent variable). Print out the `mean_squared_error` you get and plot both `x`, `y` (scatter plot), and the predicted orbit (line plot)."
   ]
  },
  {
   "cell_type": "code",
   "execution_count": 44,
   "metadata": {},
   "outputs": [
    {
     "data": {
      "image/png": "[encoded data removed]",
      "text/plain": [
       "<Figure size 432x288 with 1 Axes>"
      ]
     },
     "metadata": {
      "needs_background": "light"
     },
     "output_type": "display_data"
    },
    {
     "name": "stdout",
     "output_type": "stream",
     "text": [
      "0.6475387286176425\n"
     ]
    }
   ],
   "source": [
    "### YOUR CODE HERE\n",
    "\n",
    "reg_mod=LinearRegression()\n",
    "x=x.reshape(-1,1)\n",
    "y=y.reshape(-1,1)\n",
    "result=reg_mod.fit(x,y)\n",
    "plt.scatter(x,y)\n",
    "plt.plot(x,result.predict(x))\n",
    "plt.show()\n",
    "\n",
    "y_predicted=result.predict(x)\n",
    "print(mean_squared_error(y,y_predicted))"
   ]
  },
  {
   "cell_type": "markdown",
   "metadata": {},
   "source": [
    "This is not the best approach for our data.  Please explain why below."
   ]
  },
  {
   "cell_type": "markdown",
   "metadata": {},
   "source": [
    "The data is circular and the the line of best fit is linear"
   ]
  },
  {
   "cell_type": "markdown",
   "metadata": {},
   "source": [
    "### 3. Experimentation time!\n",
    "\n",
    "Try adding new features to your linear model by manipulating $ x $! For example, try adding a quadratic term, $ x^2 $ or a root term like $ \\sqrt{x} $. Print out the MSE of your model and plot both `x`, `y` (scatter plot), and the predicted orbit (line plot). This time, your model should take in an expanded set of features and predict $ y $.\n",
    "\n",
    "Hint: `np.vstack` may be useful here."
   ]
  },
  {
   "cell_type": "code",
   "execution_count": 48,
   "metadata": {},
   "outputs": [
    {
     "data": {
      "image/png": "[encoded data removed]",
      "text/plain": [
       "<Figure size 432x288 with 1 Axes>"
      ]
     },
     "metadata": {
      "needs_background": "light"
     },
     "output_type": "display_data"
    },
    {
     "name": "stdout",
     "output_type": "stream",
     "text": [
      "0.6382956437772765\n"
     ]
    }
   ],
   "source": [
    "### YOUR CODE HERE\n",
    "fancy_x=np.hstack((x,x**2))\n",
    "reg_mod=LinearRegression()\n",
    "result=reg_mod.fit(fancy_x,y)\n",
    "#plt.scatter(fancy_x,y)\n",
    "plt.plot(fancy_x,result.predict(fancy_x))\n",
    "plt.show()\n",
    "\n",
    "y_predicted=result.predict(fancy_x)\n",
    "print(mean_squared_error(y,y_predicted))"
   ]
  },
  {
   "cell_type": "markdown",
   "metadata": {},
   "source": [
    "This is still not the best idea, please explain:"
   ]
  },
  {
   "cell_type": "markdown",
   "metadata": {},
   "source": [
    "The data is in a circular form and this line of best for is parabola"
   ]
  },
  {
   "cell_type": "markdown",
   "metadata": {},
   "source": [
    "### 4. Plane Curves\n",
    "\n",
    "As you've probably figured out, the above two methods are pretty crap at predicting orbits. What we really need to do is predict a curve in the plane. First, let's erase some of the data so what we're doing is actually a challenge. Just run the code in the next box:"
   ]
  },
  {
   "cell_type": "code",
   "execution_count": 49,
   "metadata": {},
   "outputs": [
    {
     "data": {
      "image/png": "[encoded data removed]",
      "text/plain": [
       "<Figure size 432x288 with 1 Axes>"
      ]
     },
     "metadata": {
      "needs_background": "light"
     },
     "output_type": "display_data"
    }
   ],
   "source": [
    "# Create a mask where x < 0 or y < 0\n",
    "def mask():\n",
    "    global x\n",
    "    global y\n",
    "    \n",
    "    mask = (x < 0) + (y < 0)\n",
    "    x = x[mask]\n",
    "    y = y[mask]\n",
    "    \n",
    "    # plot erased data\n",
    "    plt.scatter(x, y)\n",
    "    plt.show()\n",
    "\n",
    "mask()"
   ]
  },
  {
   "cell_type": "markdown",
   "metadata": {},
   "source": [
    "Now the most general form of a plane curve is\n",
    "\n",
    "$$ f(x,y) = 0 $$\n",
    "\n",
    "In order to simplify our lives a bit, let's restrict this to something of the form:\n",
    "\n",
    "$$ ax^2 + bxy + cy^2 + dx + ey + f = 0 $$\n",
    "\n",
    "You may recognize this as the general form of a conic! Let's take our data and try to predict the best possible coefficients here using least squares. This way, these coefficients should give the best possible approximation to the orbit. Print your predicted coefficients.\n",
    "\n",
    "Hint 1: Think about the features you need. (6 total)\n",
    "\n",
    "Hint 2: Use the normal equation instead of sklearn.\n",
    "\n",
    "Hint 3: This is going to fail, why?\n"
   ]
  },
  {
   "cell_type": "code",
   "execution_count": 63,
   "metadata": {},
   "outputs": [
    {
     "name": "stdout",
     "output_type": "stream",
     "text": [
      "[[0.]\n",
      " [0.]\n",
      " [0.]\n",
      " [0.]\n",
      " [0.]\n",
      " [0.]]\n"
     ]
    }
   ],
   "source": [
    "### YOUR CODE HERE\n",
    "\n",
    "x=x.reshape(-1,1)\n",
    "y=y.reshape(-1,1)\n",
    "\n",
    "\n",
    "m=np.hstack((x**2,x*y,y**2,x,y,np.ones(x.shape)))\n",
    "\n",
    "\n",
    "output=np.zeros((len(m),1))\n",
    "\n",
    "#(A^T*A)^-1 *A^Ty\n",
    "normal=np.linalg.inv(m.T@m)@m.T@output\n",
    "print(normal)\n",
    "\n",
    "            "
   ]
  },
  {
   "cell_type": "markdown",
   "metadata": {},
   "source": [
    "### 5. Reformulation\n",
    "\n",
    "The above should fail for a very trivial (pun intended) reason. The reason is that if we simply set all the coefficients to zero, we get a perfect solution! We can see this in the normal equations:\n",
    "\n",
    "$$ (A^TA)^{-1} A^T b = x $$\n",
    "\n",
    "but $ b = \\vec 0 $ in our case, thus $ x = \\vec 0 $ trivially.\n",
    "\n",
    "How do we get around this? One thing we can do is to not have $ b = \\vec 0 $. To do this, let us modify the general form of a plane curve a bit:\n",
    "\n",
    "$$ f(x,y) + 1 = 1 $$\n",
    "\n",
    "Now our restricted plane curve will be of the form\n",
    "\n",
    "$$ ax^2 + bxy + cy^2 + dx + ey + f + 1 = 1 $$\n",
    "\n",
    "Is this just an aesthetic change? or will this actually help? Code it up and find out! Plot your model using the handy dandy `plot_conic` function"
   ]
  },
  {
   "cell_type": "code",
   "execution_count": 65,
   "metadata": {},
   "outputs": [],
   "source": [
    "# This function should help you plot your ellipses:\n",
    "\n",
    "def plot_conic(coeff):\n",
    "    '''\n",
    "    params\n",
    "    ------\n",
    "    coeff : array[6] floats\n",
    "        Array of 6 floats, corresponding to \n",
    "        a, b, c, d, e, and f respectively\n",
    "        in the equation above\n",
    "    '''\n",
    "    xv = np.linspace(-9, 9, 400)\n",
    "    yv = np.linspace(-5, 5, 400)\n",
    "    xv, yv = np.meshgrid(xv, yv)\n",
    "\n",
    "    def axes():\n",
    "        plt.axhline(0, alpha=.1)\n",
    "        plt.axvline(0, alpha=.1)\n",
    "\n",
    "    axes()\n",
    "    plt.contour(xv, yv, xv*xv*coeff[0] + xv*yv*coeff[1] + yv*yv*coeff[2] + xv*coeff[3] + yv*coeff[4] + coeff[5], [0], colors='k')\n",
    "    plt.scatter(x,y)\n",
    "    plt.show()"
   ]
  },
  {
   "cell_type": "code",
   "execution_count": 77,
   "metadata": {},
   "outputs": [
    {
     "data": {
      "image/png": "[encoded data removed]",
      "text/plain": [
       "<Figure size 432x288 with 1 Axes>"
      ]
     },
     "metadata": {
      "needs_background": "light"
     },
     "output_type": "display_data"
    },
    {
     "data": {
      "image/png": "[encoded data removed]",
      "text/plain": [
       "<Figure size 432x288 with 1 Axes>"
      ]
     },
     "metadata": {
      "needs_background": "light"
     },
     "output_type": "display_data"
    }
   ],
   "source": [
    "### YOUR CODE HERE\n",
    "x, y = gen_data(.5, 2, .5)\n",
    "x=x.reshape(-1,1)\n",
    "y=y.reshape(-1,1)\n",
    "\n",
    "\n",
    "m=np.hstack((x**2,x*y,y**2,x,y,np.ones(x.shape)))\n",
    "\n",
    "\n",
    "output=np.ones((len(m),1))\n",
    "\n",
    "#(A^T*A)^-1 *A^Ty\n",
    "normal=np.linalg.inv(m.T@m)@m.T@output\n",
    "normal[-1]-=1\n",
    "plot_conic(normal.flatten())\n",
    "\n",
    "\n"
   ]
  },
  {
   "cell_type": "code",
   "execution_count": null,
   "metadata": {},
   "outputs": [],
   "source": []
  },
  {
   "cell_type": "markdown",
   "metadata": {},
   "source": [
    "### 6. Ridge\n",
    "\n",
    "So, reformulating the problem might have worked, but more than likely it didn't work too well. Here's some code to generate new data. Try running the above model multiple times on different data. More than likely most of them will look terrible."
   ]
  },
  {
   "cell_type": "code",
   "execution_count": 78,
   "metadata": {},
   "outputs": [
    {
     "data": {
      "image/png": "[encoded data removed]",
      "text/plain": [
       "<Figure size 432x288 with 1 Axes>"
      ]
     },
     "metadata": {
      "needs_background": "light"
     },
     "output_type": "display_data"
    },
    {
     "data": {
      "image/png": "[encoded data removed]",
      "text/plain": [
       "<Figure size 432x288 with 1 Axes>"
      ]
     },
     "metadata": {
      "needs_background": "light"
     },
     "output_type": "display_data"
    }
   ],
   "source": [
    "# Regenerate data\n",
    "gen_data(.5, 2, .5)\n",
    "mask()"
   ]
  },
  {
   "cell_type": "markdown",
   "metadata": {},
   "source": [
    "The problem here is that our method is too unstable. It turns out the Ridge Regression as a regularizer can reduce numerical instability and constrain under-constrained problems. (The math homework with the Ridge Derivation walks you through why this is the case)\n",
    "\n",
    "The closed form solution for Ridge Regression is the following:\n",
    "\n",
    "$$ w^*_{\\text{RIDGE}} = (X^TX + \\lambda I)^{-1}X^Ty$$\n",
    "\n",
    "\n",
    "Rewrite the regression from above using ridge regression (try using $\\lambda = 1$) and see how well it does. Plot out the model using `plot_conic`. Compare the results with the previous method.\n",
    "\n",
    "Hint: Use the `regenerate data` block to try new data\n",
    "\n",
    "Hint: There is really only one extra term between this question and the previous"
   ]
  },
  {
   "cell_type": "code",
   "execution_count": 79,
   "metadata": {},
   "outputs": [
    {
     "data": {
      "image/png": "[encoded data removed]",
      "text/plain": [
       "<Figure size 432x288 with 1 Axes>"
      ]
     },
     "metadata": {
      "needs_background": "light"
     },
     "output_type": "display_data"
    }
   ],
   "source": [
    "### YOUR CODE HERE\n",
    "x=x.reshape(-1,1)\n",
    "y=y.reshape(-1,1)\n",
    "\n",
    "\n",
    "m=np.hstack((x**2,x*y,y**2,x,y,np.ones(x.shape)))\n",
    "\n",
    "\n",
    "output=np.ones((len(m),1))\n",
    "a\n",
    "#(A^T*A)^-1 *A^Ty\n",
    "l=1\n",
    "ridge=np.linalg.inv(m.T@m+l*np.eye(len(m.T@m)))@m.T@output\n",
    "ridge[-1]-=1\n",
    "plot_conic(normal)\n"
   ]
  },
  {
   "cell_type": "markdown",
   "metadata": {},
   "source": [
    "### 7. \"Deriving\" an Ellipse\n",
    "\n",
    "LASSO regularization is a _sparse feature selector_ in the sense that it zeros out \"useless\" features and keeps relevant features. It's a good way to reduce the number of features you have to use. \n",
    "\n",
    "In this case we're going to pretend we don't know what form the equation of an ellipse takes. We can add random monomials to form a guess:\n",
    "\n",
    "$$ ax^2 + bxy + cy^2 + dx + ey + f + gx^3 + hy^3 + jx^2y + \\cdots + 1 = 1 $$\n",
    "\n",
    "The idea here is that if we use LASSO regression on the above equation, the terms irrelevant to an ellipse will \"zero out\" and the quadratic and lower terms won't! Try this out, and print out the coefficients. No gurantees this will works 100% :), but you should find that all coefficients greater than quadratic zero out.\n",
    "\n",
    "`Hint`: We want to keep the ridge regularization to maintain numerical stabilitiy. So we need a combined Ridge and LASSO regression. This model is called `ElasticNet` from sklearn. Use that model.\n",
    "\n",
    "`Hint`: You might have to play around with the parameters a bit. I used these `l1_ratio=.23, alpha=.01` to produce some pretty good results"
   ]
  },
  {
   "cell_type": "code",
   "execution_count": 92,
   "metadata": {},
   "outputs": [
    {
     "name": "stdout",
     "output_type": "stream",
     "text": [
      "[ 0.06423575 -0.          0.08050956 -0.05710235 -0.02891826  0.91363264\n",
      " -0.         -0.         -0.          0.        ]\n"
     ]
    },
    {
     "name": "stderr",
     "output_type": "stream",
     "text": [
      "<ipython-input-65-e0fe12f482c8>:21: UserWarning: No contour levels were found within the data range.\n",
      "  plt.contour(xv, yv, xv*xv*coeff[0] + xv*yv*coeff[1] + yv*yv*coeff[2] + xv*coeff[3] + yv*coeff[4] + coeff[5], [0], colors='k')\n"
     ]
    },
    {
     "data": {
      "image/png": "[encoded data removed]",
      "text/plain": [
       "<Figure size 432x288 with 1 Axes>"
      ]
     },
     "metadata": {
      "needs_background": "light"
     },
     "output_type": "display_data"
    }
   ],
   "source": [
    "### YOUR CODE HERE\n",
    "x=x.reshape(-1,1)\n",
    "y=y.reshape(-1,1)\n",
    "\n",
    "\n",
    "m=np.hstack((x**2,x*y,y**2,x,y,np.ones(x.shape),x**3,y**3,x**2*y,x*y**2))\n",
    "output=np.ones((len(m),1))\n",
    "\n",
    "#(A^T*A)^-1 *A^Ty\n",
    "l=1\n",
    "ridge=ElasticNet(l1_ratio=.23, alpha=.01,fit_intercept=False)\n",
    "ridge.fit(m,output)\n",
    "coeff=ridge.coef_\n",
    "print(coeff)\n",
    "plot_conic(coeff)\n"
   ]
  },
  {
   "cell_type": "markdown",
   "metadata": {},
   "source": [
    "### 8. Evaluate this model!\n",
    "\n",
    "Run this code block below. This code block assumes that you have an array called `coeff` which has  10 elements."
   ]
  },
  {
   "cell_type": "code",
   "execution_count": 93,
   "metadata": {},
   "outputs": [
    {
     "data": {
      "image/png": "[encoded data removed]",
      "text/plain": [
       "<Figure size 432x288 with 1 Axes>"
      ]
     },
     "metadata": {
      "needs_background": "light"
     },
     "output_type": "display_data"
    }
   ],
   "source": [
    "xv = np.linspace(-9, 9, 400)\n",
    "yv = np.linspace(-5, 5, 400)\n",
    "xv, yv = np.meshgrid(xv, yv)\n",
    "\n",
    "def axes():\n",
    "    plt.axhline(0, alpha=.1)\n",
    "    plt.axvline(0, alpha=.1)\n",
    "\n",
    "axes()\n",
    "plt.contour(xv, yv, xv*xv*coeff[0] + xv*yv*coeff[1] + yv*yv*coeff[2] + xv*coeff[3] + yv*coeff[4] + coeff[5] - 1 + coeff[6]*xv*xv*xv + coeff[7]*yv*yv*yv + coeff[8]*xv*xv*yv + coeff[9]*xv*yv*yv , [0], colors='k')\n",
    "plt.scatter(x,y)\n",
    "plt.show()"
   ]
  },
  {
   "cell_type": "markdown",
   "metadata": {},
   "source": [
    "\n",
    "As demonstrated above, ridge regression can help overcome numerical instability and generalization issues that ordinary least squares (OLS) can fall short to. \n"
   ]
  }
 ],
 "metadata": {
  "kernelspec": {
   "display_name": "Python 3",
   "language": "python",
   "name": "python3"
  },
  "language_info": {
   "codemirror_mode": {
    "name": "ipython",
    "version": 3
   },
   "file_extension": ".py",
   "mimetype": "text/x-python",
   "name": "python",
   "nbconvert_exporter": "python",
   "pygments_lexer": "ipython3",
   "version": "3.8.3"
  }
 },
 "nbformat": 4,
 "nbformat_minor": 2
}
